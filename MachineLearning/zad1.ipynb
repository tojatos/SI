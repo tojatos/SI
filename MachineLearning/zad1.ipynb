{
 "cells": [
  {
   "cell_type": "markdown",
   "id": "7d555914-2b8b-48e2-8e85-48634bd428f9",
   "metadata": {},
   "source": [
    "Load data"
   ]
  },
  {
   "cell_type": "code",
   "execution_count": 2,
   "id": "6e6bb832-c2b9-4ef1-80d5-110883904704",
   "metadata": {},
   "outputs": [
    {
     "data": {
      "text/html": [
       "<div>\n",
       "<style scoped>\n",
       "    .dataframe tbody tr th:only-of-type {\n",
       "        vertical-align: middle;\n",
       "    }\n",
       "\n",
       "    .dataframe tbody tr th {\n",
       "        vertical-align: top;\n",
       "    }\n",
       "\n",
       "    .dataframe thead th {\n",
       "        text-align: right;\n",
       "    }\n",
       "</style>\n",
       "<table border=\"1\" class=\"dataframe\">\n",
       "  <thead>\n",
       "    <tr style=\"text-align: right;\">\n",
       "      <th></th>\n",
       "      <th>id</th>\n",
       "      <th>label.3class</th>\n",
       "      <th>label.4class</th>\n",
       "      <th>rating</th>\n",
       "      <th>subj</th>\n",
       "    </tr>\n",
       "  </thead>\n",
       "  <tbody>\n",
       "    <tr>\n",
       "      <th>0</th>\n",
       "      <td>29420</td>\n",
       "      <td>0</td>\n",
       "      <td>0</td>\n",
       "      <td>0.1</td>\n",
       "      <td>in my opinion , a movie reviewer's most import...</td>\n",
       "    </tr>\n",
       "    <tr>\n",
       "      <th>1</th>\n",
       "      <td>17219</td>\n",
       "      <td>0</td>\n",
       "      <td>0</td>\n",
       "      <td>0.2</td>\n",
       "      <td>you can watch this movie , that is based on a ...</td>\n",
       "    </tr>\n",
       "    <tr>\n",
       "      <th>2</th>\n",
       "      <td>18406</td>\n",
       "      <td>0</td>\n",
       "      <td>0</td>\n",
       "      <td>0.2</td>\n",
       "      <td>this is asking a lot to believe , and though i...</td>\n",
       "    </tr>\n",
       "    <tr>\n",
       "      <th>3</th>\n",
       "      <td>18648</td>\n",
       "      <td>0</td>\n",
       "      <td>0</td>\n",
       "      <td>0.2</td>\n",
       "      <td>no heroes and no story are the main attributes...</td>\n",
       "    </tr>\n",
       "    <tr>\n",
       "      <th>4</th>\n",
       "      <td>20021</td>\n",
       "      <td>0</td>\n",
       "      <td>0</td>\n",
       "      <td>0.2</td>\n",
       "      <td>this is not an art movie , yet i saw it an art...</td>\n",
       "    </tr>\n",
       "  </tbody>\n",
       "</table>\n",
       "</div>"
      ],
      "text/plain": [
       "      id  label.3class  label.4class  rating  \\\n",
       "0  29420             0             0     0.1   \n",
       "1  17219             0             0     0.2   \n",
       "2  18406             0             0     0.2   \n",
       "3  18648             0             0     0.2   \n",
       "4  20021             0             0     0.2   \n",
       "\n",
       "                                                subj  \n",
       "0  in my opinion , a movie reviewer's most import...  \n",
       "1  you can watch this movie , that is based on a ...  \n",
       "2  this is asking a lot to believe , and though i...  \n",
       "3  no heroes and no story are the main attributes...  \n",
       "4  this is not an art movie , yet i saw it an art...  "
      ]
     },
     "execution_count": 2,
     "metadata": {},
     "output_type": "execute_result"
    }
   ],
   "source": [
    "import pandas as pd\n",
    "import glob\n",
    "import os\n",
    "\n",
    "path = \"scale_data/scaledata/Dennis+Schwartz/\"\n",
    "\n",
    "all_files = glob.glob(path + \"*\")\n",
    "\n",
    "def read_csv(f):\n",
    "    return pd.read_csv(f, engine=\"python\", delimiter=\"impossible_delimiter_to_read_line_by_line\", names=[os.path.basename(f).rsplit(\".\", 1)[0]])\n",
    "\n",
    "def reset_index(df):\n",
    "    df.reset_index(drop=True, inplace=True)\n",
    "\n",
    "dataframes = [read_csv(f) for f in all_files]\n",
    "\n",
    "df = pd.concat(dataframes, axis=1)\n",
    "\n",
    "\n",
    "df.head()\n"
   ]
  },
  {
   "cell_type": "code",
   "execution_count": 6,
   "id": "362eb830-3dc4-4395-b1cb-408115880204",
   "metadata": {},
   "outputs": [
    {
     "data": {
      "text/html": [
       "<div>\n",
       "<style scoped>\n",
       "    .dataframe tbody tr th:only-of-type {\n",
       "        vertical-align: middle;\n",
       "    }\n",
       "\n",
       "    .dataframe tbody tr th {\n",
       "        vertical-align: top;\n",
       "    }\n",
       "\n",
       "    .dataframe thead tr th {\n",
       "        text-align: left;\n",
       "    }\n",
       "\n",
       "    .dataframe thead tr:last-of-type th {\n",
       "        text-align: right;\n",
       "    }\n",
       "</style>\n",
       "<table border=\"1\" class=\"dataframe\">\n",
       "  <thead>\n",
       "    <tr>\n",
       "      <th></th>\n",
       "      <th colspan=\"8\" halign=\"left\">id</th>\n",
       "      <th colspan=\"5\" halign=\"left\">label.4class</th>\n",
       "      <th colspan=\"8\" halign=\"left\">rating</th>\n",
       "    </tr>\n",
       "    <tr>\n",
       "      <th></th>\n",
       "      <th>count</th>\n",
       "      <th>mean</th>\n",
       "      <th>std</th>\n",
       "      <th>min</th>\n",
       "      <th>25%</th>\n",
       "      <th>50%</th>\n",
       "      <th>75%</th>\n",
       "      <th>max</th>\n",
       "      <th>count</th>\n",
       "      <th>mean</th>\n",
       "      <th>...</th>\n",
       "      <th>75%</th>\n",
       "      <th>max</th>\n",
       "      <th>count</th>\n",
       "      <th>mean</th>\n",
       "      <th>std</th>\n",
       "      <th>min</th>\n",
       "      <th>25%</th>\n",
       "      <th>50%</th>\n",
       "      <th>75%</th>\n",
       "      <th>max</th>\n",
       "    </tr>\n",
       "    <tr>\n",
       "      <th>label.3class</th>\n",
       "      <th></th>\n",
       "      <th></th>\n",
       "      <th></th>\n",
       "      <th></th>\n",
       "      <th></th>\n",
       "      <th></th>\n",
       "      <th></th>\n",
       "      <th></th>\n",
       "      <th></th>\n",
       "      <th></th>\n",
       "      <th></th>\n",
       "      <th></th>\n",
       "      <th></th>\n",
       "      <th></th>\n",
       "      <th></th>\n",
       "      <th></th>\n",
       "      <th></th>\n",
       "      <th></th>\n",
       "      <th></th>\n",
       "      <th></th>\n",
       "      <th></th>\n",
       "    </tr>\n",
       "  </thead>\n",
       "  <tbody>\n",
       "    <tr>\n",
       "      <th>0</th>\n",
       "      <td>359.0</td>\n",
       "      <td>25141.816156</td>\n",
       "      <td>3526.028224</td>\n",
       "      <td>17185.0</td>\n",
       "      <td>22774.5</td>\n",
       "      <td>25672.0</td>\n",
       "      <td>28308.5</td>\n",
       "      <td>29854.0</td>\n",
       "      <td>359.0</td>\n",
       "      <td>0.523677</td>\n",
       "      <td>...</td>\n",
       "      <td>1.0</td>\n",
       "      <td>1.0</td>\n",
       "      <td>359.0</td>\n",
       "      <td>0.342618</td>\n",
       "      <td>0.066810</td>\n",
       "      <td>0.1</td>\n",
       "      <td>0.3</td>\n",
       "      <td>0.4</td>\n",
       "      <td>0.4</td>\n",
       "      <td>0.4</td>\n",
       "    </tr>\n",
       "    <tr>\n",
       "      <th>1</th>\n",
       "      <td>427.0</td>\n",
       "      <td>24905.686183</td>\n",
       "      <td>3754.061146</td>\n",
       "      <td>17110.0</td>\n",
       "      <td>22327.5</td>\n",
       "      <td>25908.0</td>\n",
       "      <td>28063.0</td>\n",
       "      <td>29855.0</td>\n",
       "      <td>427.0</td>\n",
       "      <td>1.409836</td>\n",
       "      <td>...</td>\n",
       "      <td>2.0</td>\n",
       "      <td>2.0</td>\n",
       "      <td>427.0</td>\n",
       "      <td>0.540984</td>\n",
       "      <td>0.049238</td>\n",
       "      <td>0.5</td>\n",
       "      <td>0.5</td>\n",
       "      <td>0.5</td>\n",
       "      <td>0.6</td>\n",
       "      <td>0.6</td>\n",
       "    </tr>\n",
       "    <tr>\n",
       "      <th>2</th>\n",
       "      <td>241.0</td>\n",
       "      <td>23518.099585</td>\n",
       "      <td>3896.004687</td>\n",
       "      <td>16748.0</td>\n",
       "      <td>20107.0</td>\n",
       "      <td>23281.0</td>\n",
       "      <td>26851.0</td>\n",
       "      <td>29812.0</td>\n",
       "      <td>241.0</td>\n",
       "      <td>2.473029</td>\n",
       "      <td>...</td>\n",
       "      <td>3.0</td>\n",
       "      <td>3.0</td>\n",
       "      <td>241.0</td>\n",
       "      <td>0.757676</td>\n",
       "      <td>0.067339</td>\n",
       "      <td>0.7</td>\n",
       "      <td>0.7</td>\n",
       "      <td>0.7</td>\n",
       "      <td>0.8</td>\n",
       "      <td>0.9</td>\n",
       "    </tr>\n",
       "  </tbody>\n",
       "</table>\n",
       "<p>3 rows × 24 columns</p>\n",
       "</div>"
      ],
      "text/plain": [
       "                 id                                                        \\\n",
       "              count          mean          std      min      25%      50%   \n",
       "label.3class                                                                \n",
       "0             359.0  25141.816156  3526.028224  17185.0  22774.5  25672.0   \n",
       "1             427.0  24905.686183  3754.061146  17110.0  22327.5  25908.0   \n",
       "2             241.0  23518.099585  3896.004687  16748.0  20107.0  23281.0   \n",
       "\n",
       "                               label.4class            ...           rating  \\\n",
       "                  75%      max        count      mean  ...  75%  max  count   \n",
       "label.3class                                           ...                    \n",
       "0             28308.5  29854.0        359.0  0.523677  ...  1.0  1.0  359.0   \n",
       "1             28063.0  29855.0        427.0  1.409836  ...  2.0  2.0  427.0   \n",
       "2             26851.0  29812.0        241.0  2.473029  ...  3.0  3.0  241.0   \n",
       "\n",
       "                                                           \n",
       "                  mean       std  min  25%  50%  75%  max  \n",
       "label.3class                                               \n",
       "0             0.342618  0.066810  0.1  0.3  0.4  0.4  0.4  \n",
       "1             0.540984  0.049238  0.5  0.5  0.5  0.6  0.6  \n",
       "2             0.757676  0.067339  0.7  0.7  0.7  0.8  0.9  \n",
       "\n",
       "[3 rows x 24 columns]"
      ]
     },
     "execution_count": 6,
     "metadata": {},
     "output_type": "execute_result"
    }
   ],
   "source": [
    "df.groupby('label.3class').describe()"
   ]
  },
  {
   "cell_type": "code",
   "execution_count": 5,
   "id": "513224cd-c87e-4599-a1fa-37f1aba797ec",
   "metadata": {},
   "outputs": [
    {
     "data": {
      "text/html": [
       "<div>\n",
       "<style scoped>\n",
       "    .dataframe tbody tr th:only-of-type {\n",
       "        vertical-align: middle;\n",
       "    }\n",
       "\n",
       "    .dataframe tbody tr th {\n",
       "        vertical-align: top;\n",
       "    }\n",
       "\n",
       "    .dataframe thead tr th {\n",
       "        text-align: left;\n",
       "    }\n",
       "\n",
       "    .dataframe thead tr:last-of-type th {\n",
       "        text-align: right;\n",
       "    }\n",
       "</style>\n",
       "<table border=\"1\" class=\"dataframe\">\n",
       "  <thead>\n",
       "    <tr>\n",
       "      <th></th>\n",
       "      <th colspan=\"8\" halign=\"left\">id</th>\n",
       "      <th colspan=\"5\" halign=\"left\">label.3class</th>\n",
       "      <th colspan=\"8\" halign=\"left\">rating</th>\n",
       "    </tr>\n",
       "    <tr>\n",
       "      <th></th>\n",
       "      <th>count</th>\n",
       "      <th>mean</th>\n",
       "      <th>std</th>\n",
       "      <th>min</th>\n",
       "      <th>25%</th>\n",
       "      <th>50%</th>\n",
       "      <th>75%</th>\n",
       "      <th>max</th>\n",
       "      <th>count</th>\n",
       "      <th>mean</th>\n",
       "      <th>...</th>\n",
       "      <th>75%</th>\n",
       "      <th>max</th>\n",
       "      <th>count</th>\n",
       "      <th>mean</th>\n",
       "      <th>std</th>\n",
       "      <th>min</th>\n",
       "      <th>25%</th>\n",
       "      <th>50%</th>\n",
       "      <th>75%</th>\n",
       "      <th>max</th>\n",
       "    </tr>\n",
       "    <tr>\n",
       "      <th>label.4class</th>\n",
       "      <th></th>\n",
       "      <th></th>\n",
       "      <th></th>\n",
       "      <th></th>\n",
       "      <th></th>\n",
       "      <th></th>\n",
       "      <th></th>\n",
       "      <th></th>\n",
       "      <th></th>\n",
       "      <th></th>\n",
       "      <th></th>\n",
       "      <th></th>\n",
       "      <th></th>\n",
       "      <th></th>\n",
       "      <th></th>\n",
       "      <th></th>\n",
       "      <th></th>\n",
       "      <th></th>\n",
       "      <th></th>\n",
       "      <th></th>\n",
       "      <th></th>\n",
       "    </tr>\n",
       "  </thead>\n",
       "  <tbody>\n",
       "    <tr>\n",
       "      <th>0</th>\n",
       "      <td>171.0</td>\n",
       "      <td>25320.052632</td>\n",
       "      <td>3509.470790</td>\n",
       "      <td>17185.0</td>\n",
       "      <td>23273.00</td>\n",
       "      <td>26081.0</td>\n",
       "      <td>28336.00</td>\n",
       "      <td>29853.0</td>\n",
       "      <td>171.0</td>\n",
       "      <td>0.000000</td>\n",
       "      <td>...</td>\n",
       "      <td>0.0</td>\n",
       "      <td>0.0</td>\n",
       "      <td>171.0</td>\n",
       "      <td>0.279532</td>\n",
       "      <td>0.041894</td>\n",
       "      <td>0.1</td>\n",
       "      <td>0.3</td>\n",
       "      <td>0.3</td>\n",
       "      <td>0.3</td>\n",
       "      <td>0.3</td>\n",
       "    </tr>\n",
       "    <tr>\n",
       "      <th>1</th>\n",
       "      <td>440.0</td>\n",
       "      <td>24950.111364</td>\n",
       "      <td>3601.047881</td>\n",
       "      <td>17110.0</td>\n",
       "      <td>22505.75</td>\n",
       "      <td>25429.5</td>\n",
       "      <td>28124.25</td>\n",
       "      <td>29855.0</td>\n",
       "      <td>440.0</td>\n",
       "      <td>0.572727</td>\n",
       "      <td>...</td>\n",
       "      <td>1.0</td>\n",
       "      <td>1.0</td>\n",
       "      <td>440.0</td>\n",
       "      <td>0.457273</td>\n",
       "      <td>0.049525</td>\n",
       "      <td>0.4</td>\n",
       "      <td>0.4</td>\n",
       "      <td>0.5</td>\n",
       "      <td>0.5</td>\n",
       "      <td>0.5</td>\n",
       "    </tr>\n",
       "    <tr>\n",
       "      <th>2</th>\n",
       "      <td>302.0</td>\n",
       "      <td>24674.559603</td>\n",
       "      <td>3875.862492</td>\n",
       "      <td>16748.0</td>\n",
       "      <td>21810.00</td>\n",
       "      <td>25855.0</td>\n",
       "      <td>28036.50</td>\n",
       "      <td>29814.0</td>\n",
       "      <td>302.0</td>\n",
       "      <td>1.420530</td>\n",
       "      <td>...</td>\n",
       "      <td>2.0</td>\n",
       "      <td>2.0</td>\n",
       "      <td>302.0</td>\n",
       "      <td>0.642053</td>\n",
       "      <td>0.049446</td>\n",
       "      <td>0.6</td>\n",
       "      <td>0.6</td>\n",
       "      <td>0.6</td>\n",
       "      <td>0.7</td>\n",
       "      <td>0.7</td>\n",
       "    </tr>\n",
       "    <tr>\n",
       "      <th>3</th>\n",
       "      <td>114.0</td>\n",
       "      <td>22535.149123</td>\n",
       "      <td>3746.746965</td>\n",
       "      <td>17109.0</td>\n",
       "      <td>19552.75</td>\n",
       "      <td>22356.0</td>\n",
       "      <td>25541.25</td>\n",
       "      <td>29812.0</td>\n",
       "      <td>114.0</td>\n",
       "      <td>2.000000</td>\n",
       "      <td>...</td>\n",
       "      <td>2.0</td>\n",
       "      <td>2.0</td>\n",
       "      <td>114.0</td>\n",
       "      <td>0.821930</td>\n",
       "      <td>0.041560</td>\n",
       "      <td>0.8</td>\n",
       "      <td>0.8</td>\n",
       "      <td>0.8</td>\n",
       "      <td>0.8</td>\n",
       "      <td>0.9</td>\n",
       "    </tr>\n",
       "  </tbody>\n",
       "</table>\n",
       "<p>4 rows × 24 columns</p>\n",
       "</div>"
      ],
      "text/plain": [
       "                 id                                                         \\\n",
       "              count          mean          std      min       25%      50%   \n",
       "label.4class                                                                 \n",
       "0             171.0  25320.052632  3509.470790  17185.0  23273.00  26081.0   \n",
       "1             440.0  24950.111364  3601.047881  17110.0  22505.75  25429.5   \n",
       "2             302.0  24674.559603  3875.862492  16748.0  21810.00  25855.0   \n",
       "3             114.0  22535.149123  3746.746965  17109.0  19552.75  22356.0   \n",
       "\n",
       "                                label.3class            ...           rating  \\\n",
       "                   75%      max        count      mean  ...  75%  max  count   \n",
       "label.4class                                            ...                    \n",
       "0             28336.00  29853.0        171.0  0.000000  ...  0.0  0.0  171.0   \n",
       "1             28124.25  29855.0        440.0  0.572727  ...  1.0  1.0  440.0   \n",
       "2             28036.50  29814.0        302.0  1.420530  ...  2.0  2.0  302.0   \n",
       "3             25541.25  29812.0        114.0  2.000000  ...  2.0  2.0  114.0   \n",
       "\n",
       "                                                           \n",
       "                  mean       std  min  25%  50%  75%  max  \n",
       "label.4class                                               \n",
       "0             0.279532  0.041894  0.1  0.3  0.3  0.3  0.3  \n",
       "1             0.457273  0.049525  0.4  0.4  0.5  0.5  0.5  \n",
       "2             0.642053  0.049446  0.6  0.6  0.6  0.7  0.7  \n",
       "3             0.821930  0.041560  0.8  0.8  0.8  0.8  0.9  \n",
       "\n",
       "[4 rows x 24 columns]"
      ]
     },
     "execution_count": 5,
     "metadata": {},
     "output_type": "execute_result"
    }
   ],
   "source": [
    "df.groupby('label.4class').describe()"
   ]
  },
  {
   "cell_type": "code",
   "execution_count": 19,
   "id": "6810fe6b-3464-469f-9183-5b506b597000",
   "metadata": {},
   "outputs": [],
   "source": [
    "from sklearn.model_selection import train_test_split\n",
    "X_train, X_test, y_train, y_test = train_test_split(df.subj, df['label.3class'])"
   ]
  },
  {
   "cell_type": "code",
   "execution_count": 20,
   "id": "52f3981f-86a5-47eb-9d40-71b146b95561",
   "metadata": {},
   "outputs": [
    {
     "data": {
      "text/plain": [
       "array([[0, 0, 0, ..., 0, 0, 0],\n",
       "       [0, 0, 0, ..., 0, 0, 0],\n",
       "       [0, 0, 0, ..., 0, 0, 0]], dtype=int64)"
      ]
     },
     "execution_count": 20,
     "metadata": {},
     "output_type": "execute_result"
    }
   ],
   "source": [
    "from sklearn.feature_extraction.text import CountVectorizer\n",
    "v = CountVectorizer()\n",
    "X_train_count = v.fit_transform(X_train.values)\n",
    "X_train_count.toarray()[:3]"
   ]
  },
  {
   "cell_type": "code",
   "execution_count": 71,
   "id": "2c06fdf6-5f87-4fc1-844c-41c92f040361",
   "metadata": {},
   "outputs": [],
   "source": [
    "X_test_count = v.transform(X_test)"
   ]
  },
  {
   "cell_type": "code",
   "execution_count": 60,
   "id": "abd47ba1-0937-46ce-a843-a9cd9ec3d581",
   "metadata": {},
   "outputs": [
    {
     "data": {
      "text/plain": [
       "MultinomialNB()"
      ]
     },
     "execution_count": 60,
     "metadata": {},
     "output_type": "execute_result"
    }
   ],
   "source": [
    "from sklearn.naive_bayes import MultinomialNB\n",
    "model = MultinomialNB()\n",
    "model.fit(X_train_count, y_train)"
   ]
  },
  {
   "cell_type": "code",
   "execution_count": 62,
   "id": "41b26671-2509-40c0-a40b-4378efd39217",
   "metadata": {},
   "outputs": [
    {
     "data": {
      "text/plain": [
       "array([1, 1, 1, 2, 1, 0, 0, 0, 1, 2, 0, 0, 2, 0, 2, 1, 1, 0, 1, 0, 0, 0,\n",
       "       1, 0, 1, 2, 0, 1, 1, 0, 2, 0, 2, 1, 1, 0, 0, 1, 1, 0, 1, 1, 0, 1,\n",
       "       0, 1, 1, 1, 1, 1, 0, 2, 1, 0, 1, 0, 1, 0, 0, 1, 2, 1, 1, 0, 2, 1,\n",
       "       1, 1, 1, 1, 0, 1, 0, 0, 1, 0, 1, 2, 0, 1, 1, 1, 1, 0, 1, 0, 1, 1,\n",
       "       2, 0, 1, 1, 1, 0, 0, 1, 0, 1, 1, 0, 0, 0, 0, 1, 0, 2, 1, 1, 0, 2,\n",
       "       1, 0, 1, 1, 0, 1, 0, 0, 1, 1, 0, 1, 1, 2, 1, 1, 0, 1, 1, 0, 0, 0,\n",
       "       0, 1, 1, 0, 0, 2, 1, 0, 0, 0, 0, 1, 1, 1, 0, 0, 0, 1, 1, 1, 0, 0,\n",
       "       0, 1, 1, 2, 0, 1, 1, 1, 1, 1, 1, 1, 1, 0, 0, 1, 1, 1, 2, 1, 1, 0,\n",
       "       1, 0, 0, 0, 1, 1, 0, 1, 2, 2, 1, 0, 1, 0, 2, 1, 0, 2, 1, 0, 0, 0,\n",
       "       0, 0, 1, 1, 2, 1, 1, 2, 2, 0, 2, 0, 2, 1, 1, 1, 1, 1, 1, 1, 0, 1,\n",
       "       0, 0, 1, 1, 1, 1, 2, 0, 1, 0, 1, 2, 1, 0, 1, 0, 1, 1, 1, 0, 1, 2,\n",
       "       1, 0, 1, 0, 1, 0, 1, 1, 0, 1, 1, 1, 1, 0, 1], dtype=int64)"
      ]
     },
     "execution_count": 62,
     "metadata": {},
     "output_type": "execute_result"
    }
   ],
   "source": [
    "model.predict(X_test_count)"
   ]
  },
  {
   "cell_type": "code",
   "execution_count": 45,
   "id": "a4655cfd-97d7-44ef-98ce-44d2ad9e91d7",
   "metadata": {},
   "outputs": [
    {
     "data": {
      "text/plain": [
       "0.6147859922178989"
      ]
     },
     "execution_count": 45,
     "metadata": {},
     "output_type": "execute_result"
    }
   ],
   "source": [
    "model.score(X_test_count, y_test)"
   ]
  },
  {
   "cell_type": "code",
   "execution_count": 69,
   "id": "9e7a4556-7fc8-48db-bc91-38fa4c2c3a0a",
   "metadata": {},
   "outputs": [
    {
     "data": {
      "text/plain": [
       "205    this film's narrative promises much to say abo...\n",
       "959    his rambling story is a near-masterpiece of vi...\n",
       "998    a brilliant and moving indie drama filmed on a...\n",
       "982    dariush mehrjui is one of iran's finest modern...\n",
       "632    in it he questions american values , suggestin...\n",
       "Name: subj, dtype: object"
      ]
     },
     "execution_count": 69,
     "metadata": {},
     "output_type": "execute_result"
    }
   ],
   "source": [
    "X_test.head()"
   ]
  },
  {
   "cell_type": "code",
   "execution_count": 47,
   "id": "0ae56f94-b58b-4d89-a85b-cac08cf52575",
   "metadata": {},
   "outputs": [
    {
     "data": {
      "text/plain": [
       "SVC()"
      ]
     },
     "execution_count": 47,
     "metadata": {},
     "output_type": "execute_result"
    }
   ],
   "source": [
    "from sklearn import svm\n",
    "clf = svm.SVC()\n",
    "clf.fit(X_train_count, y_train)"
   ]
  },
  {
   "cell_type": "code",
   "execution_count": 70,
   "id": "03e3c269-e108-4d34-8484-1dd0b73332ea",
   "metadata": {},
   "outputs": [
    {
     "data": {
      "text/plain": [
       "array([0, 1, 1, 1, 1, 1, 0, 0, 1, 1, 1, 1, 1, 0, 2, 1, 2, 0, 0, 1, 0, 0,\n",
       "       0, 0, 0, 1, 0, 1, 1, 1, 1, 1, 1, 1, 1, 0, 0, 1, 1, 1, 0, 0, 0, 1,\n",
       "       0, 1, 0, 0, 1, 1, 0, 1, 1, 0, 1, 1, 1, 1, 1, 1, 2, 1, 0, 2, 1, 1,\n",
       "       1, 1, 2, 1, 0, 1, 0, 1, 1, 0, 1, 1, 1, 1, 1, 2, 0, 0, 2, 1, 1, 1,\n",
       "       1, 1, 1, 1, 1, 1, 1, 1, 1, 1, 1, 2, 1, 0, 1, 1, 1, 1, 2, 0, 1, 1,\n",
       "       1, 0, 0, 1, 1, 2, 0, 1, 1, 2, 0, 1, 1, 1, 1, 1, 1, 1, 1, 1, 1, 1,\n",
       "       0, 1, 1, 0, 1, 1, 0, 0, 1, 0, 1, 1, 1, 1, 0, 1, 1, 1, 1, 1, 0, 1,\n",
       "       1, 1, 1, 1, 1, 0, 1, 1, 1, 0, 2, 1, 1, 0, 0, 1, 1, 2, 1, 1, 1, 1,\n",
       "       1, 1, 0, 0, 1, 1, 0, 2, 1, 1, 1, 0, 1, 0, 1, 1, 1, 1, 1, 0, 0, 1,\n",
       "       0, 1, 1, 1, 2, 1, 1, 2, 1, 1, 1, 1, 1, 2, 1, 2, 1, 1, 1, 1, 1, 1,\n",
       "       0, 1, 0, 1, 1, 1, 1, 0, 1, 0, 1, 1, 2, 1, 1, 1, 1, 1, 1, 0, 1, 1,\n",
       "       1, 1, 1, 1, 1, 1, 1, 1, 2, 1, 1, 1, 1, 1, 1], dtype=int64)"
      ]
     },
     "execution_count": 70,
     "metadata": {},
     "output_type": "execute_result"
    }
   ],
   "source": [
    "clf.predict(X_test_count)"
   ]
  },
  {
   "cell_type": "code",
   "execution_count": 49,
   "id": "6418ad02-b1e6-4620-b8a3-3d46868ffe15",
   "metadata": {},
   "outputs": [
    {
     "data": {
      "text/plain": [
       "0.490272373540856"
      ]
     },
     "execution_count": 49,
     "metadata": {},
     "output_type": "execute_result"
    }
   ],
   "source": [
    "clf.score(X_test_count, y_test)"
   ]
  }
 ],
 "metadata": {
  "kernelspec": {
   "display_name": "Python 3",
   "language": "python",
   "name": "python3"
  },
  "language_info": {
   "codemirror_mode": {
    "name": "ipython",
    "version": 3
   },
   "file_extension": ".py",
   "mimetype": "text/x-python",
   "name": "python",
   "nbconvert_exporter": "python",
   "pygments_lexer": "ipython3",
   "version": "3.8.3"
  }
 },
 "nbformat": 4,
 "nbformat_minor": 5
}
