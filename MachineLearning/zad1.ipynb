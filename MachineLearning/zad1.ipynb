{
 "cells": [
  {
   "cell_type": "code",
   "execution_count": 1,
   "id": "ffa86886",
   "metadata": {},
   "outputs": [],
   "source": [
    "import pandas as pd\n",
    "import matplotlib.pyplot as plt\n",
    "import glob\n",
    "import os\n",
    "\n",
    "from sklearn.feature_extraction.text import CountVectorizer\n",
    "from sklearn.model_selection import train_test_split, cross_val_score, GridSearchCV\n",
    "from sklearn.naive_bayes import MultinomialNB\n",
    "from sklearn import svm\n",
    "from sklearn.metrics import classification_report"
   ]
  },
  {
   "cell_type": "markdown",
   "id": "696d8594",
   "metadata": {
    "tags": []
   },
   "source": [
    "# Ładowanie danych"
   ]
  },
  {
   "cell_type": "code",
   "execution_count": 2,
   "id": "0c2a048e",
   "metadata": {},
   "outputs": [
    {
     "data": {
      "text/html": [
       "<div>\n",
       "<style scoped>\n",
       "    .dataframe tbody tr th:only-of-type {\n",
       "        vertical-align: middle;\n",
       "    }\n",
       "\n",
       "    .dataframe tbody tr th {\n",
       "        vertical-align: top;\n",
       "    }\n",
       "\n",
       "    .dataframe thead th {\n",
       "        text-align: right;\n",
       "    }\n",
       "</style>\n",
       "<table border=\"1\" class=\"dataframe\">\n",
       "  <thead>\n",
       "    <tr style=\"text-align: right;\">\n",
       "      <th></th>\n",
       "      <th>id</th>\n",
       "      <th>label_3class</th>\n",
       "      <th>label_4class</th>\n",
       "      <th>rating</th>\n",
       "      <th>subj</th>\n",
       "    </tr>\n",
       "  </thead>\n",
       "  <tbody>\n",
       "    <tr>\n",
       "      <th>0</th>\n",
       "      <td>29420</td>\n",
       "      <td>0</td>\n",
       "      <td>0</td>\n",
       "      <td>0.1</td>\n",
       "      <td>in my opinion , a movie reviewer's most import...</td>\n",
       "    </tr>\n",
       "    <tr>\n",
       "      <th>1</th>\n",
       "      <td>17219</td>\n",
       "      <td>0</td>\n",
       "      <td>0</td>\n",
       "      <td>0.2</td>\n",
       "      <td>you can watch this movie , that is based on a ...</td>\n",
       "    </tr>\n",
       "    <tr>\n",
       "      <th>2</th>\n",
       "      <td>18406</td>\n",
       "      <td>0</td>\n",
       "      <td>0</td>\n",
       "      <td>0.2</td>\n",
       "      <td>this is asking a lot to believe , and though i...</td>\n",
       "    </tr>\n",
       "    <tr>\n",
       "      <th>3</th>\n",
       "      <td>18648</td>\n",
       "      <td>0</td>\n",
       "      <td>0</td>\n",
       "      <td>0.2</td>\n",
       "      <td>no heroes and no story are the main attributes...</td>\n",
       "    </tr>\n",
       "    <tr>\n",
       "      <th>4</th>\n",
       "      <td>20021</td>\n",
       "      <td>0</td>\n",
       "      <td>0</td>\n",
       "      <td>0.2</td>\n",
       "      <td>this is not an art movie , yet i saw it an art...</td>\n",
       "    </tr>\n",
       "  </tbody>\n",
       "</table>\n",
       "</div>"
      ],
      "text/plain": [
       "      id  label_3class  label_4class  rating  \\\n",
       "0  29420             0             0     0.1   \n",
       "1  17219             0             0     0.2   \n",
       "2  18406             0             0     0.2   \n",
       "3  18648             0             0     0.2   \n",
       "4  20021             0             0     0.2   \n",
       "\n",
       "                                                subj  \n",
       "0  in my opinion , a movie reviewer's most import...  \n",
       "1  you can watch this movie , that is based on a ...  \n",
       "2  this is asking a lot to believe , and though i...  \n",
       "3  no heroes and no story are the main attributes...  \n",
       "4  this is not an art movie , yet i saw it an art...  "
      ]
     },
     "execution_count": 2,
     "metadata": {},
     "output_type": "execute_result"
    }
   ],
   "source": [
    "path = \"scale_data/merged/\"\n",
    "\n",
    "all_files = glob.glob(path + \"*\")\n",
    "# print(all_files)\n",
    "\n",
    "def read_csv(f):\n",
    "    return pd.read_csv(f, engine=\"python\", delimiter=\"impossible_delimiter_to_read_line_by_line\", names=[os.path.basename(f)])\n",
    "\n",
    "def reset_index(df):\n",
    "    df.reset_index(drop=True, inplace=True)\n",
    "\n",
    "dataframes = [read_csv(f) for f in all_files]\n",
    "\n",
    "df = pd.concat(dataframes, axis=1)\n",
    "\n",
    "df.head()"
   ]
  },
  {
   "cell_type": "markdown",
   "id": "f73e4700",
   "metadata": {},
   "source": [
    "# Analiza danych\n",
    "## Rozkład ocen"
   ]
  },
  {
   "cell_type": "code",
   "execution_count": 3,
   "id": "4ff7465b",
   "metadata": {},
   "outputs": [
    {
     "data": {
      "text/html": [
       "<div>\n",
       "<style scoped>\n",
       "    .dataframe tbody tr th:only-of-type {\n",
       "        vertical-align: middle;\n",
       "    }\n",
       "\n",
       "    .dataframe tbody tr th {\n",
       "        vertical-align: top;\n",
       "    }\n",
       "\n",
       "    .dataframe thead th {\n",
       "        text-align: right;\n",
       "    }\n",
       "</style>\n",
       "<table border=\"1\" class=\"dataframe\">\n",
       "  <thead>\n",
       "    <tr style=\"text-align: right;\">\n",
       "      <th></th>\n",
       "      <th>label_3class</th>\n",
       "      <th>counts</th>\n",
       "    </tr>\n",
       "  </thead>\n",
       "  <tbody>\n",
       "    <tr>\n",
       "      <th>0</th>\n",
       "      <td>0</td>\n",
       "      <td>1197</td>\n",
       "    </tr>\n",
       "    <tr>\n",
       "      <th>1</th>\n",
       "      <td>1</td>\n",
       "      <td>1915</td>\n",
       "    </tr>\n",
       "    <tr>\n",
       "      <th>2</th>\n",
       "      <td>2</td>\n",
       "      <td>1894</td>\n",
       "    </tr>\n",
       "  </tbody>\n",
       "</table>\n",
       "</div>"
      ],
      "text/plain": [
       "   label_3class  counts\n",
       "0             0    1197\n",
       "1             1    1915\n",
       "2             2    1894"
      ]
     },
     "execution_count": 3,
     "metadata": {},
     "output_type": "execute_result"
    },
    {
     "data": {
      "image/png": "[encoded data removed]",
      "text/plain": [
       "<Figure size 432x288 with 1 Axes>"
      ]
     },
     "metadata": {
      "needs_background": "light"
     },
     "output_type": "display_data"
    }
   ],
   "source": [
    "c = df.groupby('label_3class').size().reset_index(name='counts')\n",
    "c.plot.bar(x='label_3class', y=\"counts\", rot=0)\n",
    "c"
   ]
  },
  {
   "cell_type": "code",
   "execution_count": 4,
   "id": "a60e0069",
   "metadata": {},
   "outputs": [
    {
     "data": {
      "text/html": [
       "<div>\n",
       "<style scoped>\n",
       "    .dataframe tbody tr th:only-of-type {\n",
       "        vertical-align: middle;\n",
       "    }\n",
       "\n",
       "    .dataframe tbody tr th {\n",
       "        vertical-align: top;\n",
       "    }\n",
       "\n",
       "    .dataframe thead th {\n",
       "        text-align: right;\n",
       "    }\n",
       "</style>\n",
       "<table border=\"1\" class=\"dataframe\">\n",
       "  <thead>\n",
       "    <tr style=\"text-align: right;\">\n",
       "      <th></th>\n",
       "      <th>label_4class</th>\n",
       "      <th>counts</th>\n",
       "    </tr>\n",
       "  </thead>\n",
       "  <tbody>\n",
       "    <tr>\n",
       "      <th>0</th>\n",
       "      <td>0</td>\n",
       "      <td>615</td>\n",
       "    </tr>\n",
       "    <tr>\n",
       "      <th>1</th>\n",
       "      <td>1</td>\n",
       "      <td>1553</td>\n",
       "    </tr>\n",
       "    <tr>\n",
       "      <th>2</th>\n",
       "      <td>2</td>\n",
       "      <td>1998</td>\n",
       "    </tr>\n",
       "    <tr>\n",
       "      <th>3</th>\n",
       "      <td>3</td>\n",
       "      <td>840</td>\n",
       "    </tr>\n",
       "  </tbody>\n",
       "</table>\n",
       "</div>"
      ],
      "text/plain": [
       "   label_4class  counts\n",
       "0             0     615\n",
       "1             1    1553\n",
       "2             2    1998\n",
       "3             3     840"
      ]
     },
     "execution_count": 4,
     "metadata": {},
     "output_type": "execute_result"
    },
    {
     "data": {
      "image/png": "[encoded data removed]",
      "text/plain": [
       "<Figure size 432x288 with 1 Axes>"
      ]
     },
     "metadata": {
      "needs_background": "light"
     },
     "output_type": "display_data"
    }
   ],
   "source": [
    "c = df.groupby('label_4class').size().reset_index(name='counts')\n",
    "c.plot.bar(x='label_4class', y=\"counts\", rot=0)\n",
    "c"
   ]
  },
  {
   "cell_type": "markdown",
   "id": "132fcf6b",
   "metadata": {},
   "source": [
    "## Typowe długości recenzji"
   ]
  },
  {
   "cell_type": "code",
   "execution_count": 5,
   "id": "fcb37a7b",
   "metadata": {},
   "outputs": [
    {
     "name": "stdout",
     "output_type": "stream",
     "text": [
      "Przeciętna długość recenzji: 2256.4578505793047\n"
     ]
    },
    {
     "data": {
      "text/html": [
       "<div>\n",
       "<style scoped>\n",
       "    .dataframe tbody tr th:only-of-type {\n",
       "        vertical-align: middle;\n",
       "    }\n",
       "\n",
       "    .dataframe tbody tr th {\n",
       "        vertical-align: top;\n",
       "    }\n",
       "\n",
       "    .dataframe thead th {\n",
       "        text-align: right;\n",
       "    }\n",
       "</style>\n",
       "<table border=\"1\" class=\"dataframe\">\n",
       "  <thead>\n",
       "    <tr style=\"text-align: right;\">\n",
       "      <th></th>\n",
       "      <th>len</th>\n",
       "      <th>count</th>\n",
       "    </tr>\n",
       "  </thead>\n",
       "  <tbody>\n",
       "    <tr>\n",
       "      <th>0</th>\n",
       "      <td>2414</td>\n",
       "      <td>8</td>\n",
       "    </tr>\n",
       "    <tr>\n",
       "      <th>1</th>\n",
       "      <td>1717</td>\n",
       "      <td>8</td>\n",
       "    </tr>\n",
       "    <tr>\n",
       "      <th>2</th>\n",
       "      <td>2146</td>\n",
       "      <td>7</td>\n",
       "    </tr>\n",
       "    <tr>\n",
       "      <th>3</th>\n",
       "      <td>2786</td>\n",
       "      <td>7</td>\n",
       "    </tr>\n",
       "    <tr>\n",
       "      <th>4</th>\n",
       "      <td>2726</td>\n",
       "      <td>6</td>\n",
       "    </tr>\n",
       "    <tr>\n",
       "      <th>5</th>\n",
       "      <td>2152</td>\n",
       "      <td>6</td>\n",
       "    </tr>\n",
       "    <tr>\n",
       "      <th>6</th>\n",
       "      <td>2420</td>\n",
       "      <td>6</td>\n",
       "    </tr>\n",
       "    <tr>\n",
       "      <th>7</th>\n",
       "      <td>3013</td>\n",
       "      <td>6</td>\n",
       "    </tr>\n",
       "    <tr>\n",
       "      <th>8</th>\n",
       "      <td>1473</td>\n",
       "      <td>6</td>\n",
       "    </tr>\n",
       "    <tr>\n",
       "      <th>9</th>\n",
       "      <td>1703</td>\n",
       "      <td>6</td>\n",
       "    </tr>\n",
       "    <tr>\n",
       "      <th>10</th>\n",
       "      <td>2197</td>\n",
       "      <td>6</td>\n",
       "    </tr>\n",
       "    <tr>\n",
       "      <th>11</th>\n",
       "      <td>2571</td>\n",
       "      <td>6</td>\n",
       "    </tr>\n",
       "    <tr>\n",
       "      <th>12</th>\n",
       "      <td>2679</td>\n",
       "      <td>6</td>\n",
       "    </tr>\n",
       "    <tr>\n",
       "      <th>13</th>\n",
       "      <td>2933</td>\n",
       "      <td>6</td>\n",
       "    </tr>\n",
       "    <tr>\n",
       "      <th>14</th>\n",
       "      <td>2014</td>\n",
       "      <td>6</td>\n",
       "    </tr>\n",
       "  </tbody>\n",
       "</table>\n",
       "</div>"
      ],
      "text/plain": [
       "     len  count\n",
       "0   2414      8\n",
       "1   1717      8\n",
       "2   2146      7\n",
       "3   2786      7\n",
       "4   2726      6\n",
       "5   2152      6\n",
       "6   2420      6\n",
       "7   3013      6\n",
       "8   1473      6\n",
       "9   1703      6\n",
       "10  2197      6\n",
       "11  2571      6\n",
       "12  2679      6\n",
       "13  2933      6\n",
       "14  2014      6"
      ]
     },
     "execution_count": 5,
     "metadata": {},
     "output_type": "execute_result"
    }
   ],
   "source": [
    "subj_len_list = df.subj.map(len)\n",
    "\n",
    "print('Przeciętna długość recenzji: ' + str(subj_len_list.mean()))\n",
    "\n",
    "subj_len_list.reset_index(name='len')[['len']].groupby('len').size().T.sort_values(ascending=False).head(15).reset_index(name='count')"
   ]
  },
  {
   "cell_type": "markdown",
   "id": "fd3b821b-42b0-44d6-a032-0a07a7e37542",
   "metadata": {},
   "source": [
    "## Średnie długości recenzji na ocenę"
   ]
  },
  {
   "cell_type": "code",
   "execution_count": 6,
   "id": "e279cfed",
   "metadata": {},
   "outputs": [
    {
     "data": {
      "text/plain": [
       "<AxesSubplot:xlabel='label_3class'>"
      ]
     },
     "execution_count": 6,
     "metadata": {},
     "output_type": "execute_result"
    },
    {
     "data": {
      "image/png": "[encoded data removed]",
      "text/plain": [
       "<Figure size 432x288 with 1 Axes>"
      ]
     },
     "metadata": {
      "needs_background": "light"
     },
     "output_type": "display_data"
    }
   ],
   "source": [
    "subj_len_df = df.copy()\n",
    "subj_len_df['len'] = subj_len_df.subj.map(len)\n",
    "c = subj_len_df[['label_3class','len']].groupby('label_3class').mean()\n",
    "c.plot.bar(rot=0)"
   ]
  },
  {
   "cell_type": "markdown",
   "id": "35981f10",
   "metadata": {},
   "source": [
    "## Najczęściej występujące słowa:"
   ]
  },
  {
   "cell_type": "markdown",
   "id": "9371e000",
   "metadata": {},
   "source": [
    "### Wszystkie:"
   ]
  },
  {
   "cell_type": "code",
   "execution_count": 7,
   "id": "1bfca9b4",
   "metadata": {},
   "outputs": [
    {
     "name": "stdout",
     "output_type": "stream",
     "text": [
      "Różnych słów: 41932\n"
     ]
    },
    {
     "data": {
      "text/html": [
       "<div>\n",
       "<style scoped>\n",
       "    .dataframe tbody tr th:only-of-type {\n",
       "        vertical-align: middle;\n",
       "    }\n",
       "\n",
       "    .dataframe tbody tr th {\n",
       "        vertical-align: top;\n",
       "    }\n",
       "\n",
       "    .dataframe thead th {\n",
       "        text-align: right;\n",
       "    }\n",
       "</style>\n",
       "<table border=\"1\" class=\"dataframe\">\n",
       "  <thead>\n",
       "    <tr style=\"text-align: right;\">\n",
       "      <th></th>\n",
       "      <th>index</th>\n",
       "      <th>counts</th>\n",
       "    </tr>\n",
       "  </thead>\n",
       "  <tbody>\n",
       "    <tr>\n",
       "      <th>0</th>\n",
       "      <td>the</td>\n",
       "      <td>112685</td>\n",
       "    </tr>\n",
       "    <tr>\n",
       "      <th>1</th>\n",
       "      <td>of</td>\n",
       "      <td>55778</td>\n",
       "    </tr>\n",
       "    <tr>\n",
       "      <th>2</th>\n",
       "      <td>and</td>\n",
       "      <td>48379</td>\n",
       "    </tr>\n",
       "    <tr>\n",
       "      <th>3</th>\n",
       "      <td>to</td>\n",
       "      <td>44245</td>\n",
       "    </tr>\n",
       "    <tr>\n",
       "      <th>4</th>\n",
       "      <td>is</td>\n",
       "      <td>39599</td>\n",
       "    </tr>\n",
       "    <tr>\n",
       "      <th>5</th>\n",
       "      <td>it</td>\n",
       "      <td>32405</td>\n",
       "    </tr>\n",
       "    <tr>\n",
       "      <th>6</th>\n",
       "      <td>in</td>\n",
       "      <td>28737</td>\n",
       "    </tr>\n",
       "    <tr>\n",
       "      <th>7</th>\n",
       "      <td>that</td>\n",
       "      <td>25740</td>\n",
       "    </tr>\n",
       "    <tr>\n",
       "      <th>8</th>\n",
       "      <td>for</td>\n",
       "      <td>18343</td>\n",
       "    </tr>\n",
       "    <tr>\n",
       "      <th>9</th>\n",
       "      <td>as</td>\n",
       "      <td>17585</td>\n",
       "    </tr>\n",
       "    <tr>\n",
       "      <th>10</th>\n",
       "      <td>film</td>\n",
       "      <td>17304</td>\n",
       "    </tr>\n",
       "    <tr>\n",
       "      <th>11</th>\n",
       "      <td>with</td>\n",
       "      <td>15879</td>\n",
       "    </tr>\n",
       "    <tr>\n",
       "      <th>12</th>\n",
       "      <td>this</td>\n",
       "      <td>15744</td>\n",
       "    </tr>\n",
       "    <tr>\n",
       "      <th>13</th>\n",
       "      <td>but</td>\n",
       "      <td>13671</td>\n",
       "    </tr>\n",
       "    <tr>\n",
       "      <th>14</th>\n",
       "      <td>be</td>\n",
       "      <td>12127</td>\n",
       "    </tr>\n",
       "  </tbody>\n",
       "</table>\n",
       "</div>"
      ],
      "text/plain": [
       "   index  counts\n",
       "0    the  112685\n",
       "1     of   55778\n",
       "2    and   48379\n",
       "3     to   44245\n",
       "4     is   39599\n",
       "5     it   32405\n",
       "6     in   28737\n",
       "7   that   25740\n",
       "8    for   18343\n",
       "9     as   17585\n",
       "10  film   17304\n",
       "11  with   15879\n",
       "12  this   15744\n",
       "13   but   13671\n",
       "14    be   12127"
      ]
     },
     "execution_count": 7,
     "metadata": {},
     "output_type": "execute_result"
    }
   ],
   "source": [
    "all_data_cv = CountVectorizer()\n",
    "words_counts = all_data_cv.fit_transform(df.subj)\n",
    "print('Różnych słów: ' + str(len(words_counts.toarray()[0])))\n",
    "counts = pd.DataFrame(words_counts.toarray(),\n",
    "                      columns=all_data_cv.get_feature_names())\n",
    "counts.sum().T.sort_values(ascending=False).head(15).reset_index(name='counts')"
   ]
  },
  {
   "cell_type": "markdown",
   "id": "139a69ae",
   "metadata": {},
   "source": [
    "### Używając stop_words"
   ]
  },
  {
   "cell_type": "code",
   "execution_count": 8,
   "id": "27dbed29",
   "metadata": {},
   "outputs": [
    {
     "name": "stdout",
     "output_type": "stream",
     "text": [
      "Różnych słów: 41631\n"
     ]
    },
    {
     "data": {
      "text/html": [
       "<div>\n",
       "<style scoped>\n",
       "    .dataframe tbody tr th:only-of-type {\n",
       "        vertical-align: middle;\n",
       "    }\n",
       "\n",
       "    .dataframe tbody tr th {\n",
       "        vertical-align: top;\n",
       "    }\n",
       "\n",
       "    .dataframe thead th {\n",
       "        text-align: right;\n",
       "    }\n",
       "</style>\n",
       "<table border=\"1\" class=\"dataframe\">\n",
       "  <thead>\n",
       "    <tr style=\"text-align: right;\">\n",
       "      <th></th>\n",
       "      <th>index</th>\n",
       "      <th>counts</th>\n",
       "    </tr>\n",
       "  </thead>\n",
       "  <tbody>\n",
       "    <tr>\n",
       "      <th>0</th>\n",
       "      <td>film</td>\n",
       "      <td>17304</td>\n",
       "    </tr>\n",
       "    <tr>\n",
       "      <th>1</th>\n",
       "      <td>movie</td>\n",
       "      <td>9601</td>\n",
       "    </tr>\n",
       "    <tr>\n",
       "      <th>2</th>\n",
       "      <td>like</td>\n",
       "      <td>6194</td>\n",
       "    </tr>\n",
       "    <tr>\n",
       "      <th>3</th>\n",
       "      <td>story</td>\n",
       "      <td>5363</td>\n",
       "    </tr>\n",
       "    <tr>\n",
       "      <th>4</th>\n",
       "      <td>director</td>\n",
       "      <td>3954</td>\n",
       "    </tr>\n",
       "    <tr>\n",
       "      <th>5</th>\n",
       "      <td>just</td>\n",
       "      <td>3849</td>\n",
       "    </tr>\n",
       "    <tr>\n",
       "      <th>6</th>\n",
       "      <td>time</td>\n",
       "      <td>3845</td>\n",
       "    </tr>\n",
       "    <tr>\n",
       "      <th>7</th>\n",
       "      <td>films</td>\n",
       "      <td>3453</td>\n",
       "    </tr>\n",
       "    <tr>\n",
       "      <th>8</th>\n",
       "      <td>characters</td>\n",
       "      <td>3240</td>\n",
       "    </tr>\n",
       "    <tr>\n",
       "      <th>9</th>\n",
       "      <td>good</td>\n",
       "      <td>3170</td>\n",
       "    </tr>\n",
       "    <tr>\n",
       "      <th>10</th>\n",
       "      <td>little</td>\n",
       "      <td>2979</td>\n",
       "    </tr>\n",
       "    <tr>\n",
       "      <th>11</th>\n",
       "      <td>picture</td>\n",
       "      <td>2894</td>\n",
       "    </tr>\n",
       "    <tr>\n",
       "      <th>12</th>\n",
       "      <td>make</td>\n",
       "      <td>2535</td>\n",
       "    </tr>\n",
       "    <tr>\n",
       "      <th>13</th>\n",
       "      <td>character</td>\n",
       "      <td>2513</td>\n",
       "    </tr>\n",
       "    <tr>\n",
       "      <th>14</th>\n",
       "      <td>don</td>\n",
       "      <td>2512</td>\n",
       "    </tr>\n",
       "  </tbody>\n",
       "</table>\n",
       "</div>"
      ],
      "text/plain": [
       "         index  counts\n",
       "0         film   17304\n",
       "1        movie    9601\n",
       "2         like    6194\n",
       "3        story    5363\n",
       "4     director    3954\n",
       "5         just    3849\n",
       "6         time    3845\n",
       "7        films    3453\n",
       "8   characters    3240\n",
       "9         good    3170\n",
       "10      little    2979\n",
       "11     picture    2894\n",
       "12        make    2535\n",
       "13   character    2513\n",
       "14         don    2512"
      ]
     },
     "execution_count": 8,
     "metadata": {},
     "output_type": "execute_result"
    }
   ],
   "source": [
    "all_data_cv = CountVectorizer(stop_words='english')\n",
    "words_counts = all_data_cv.fit_transform(df.subj)\n",
    "print('Różnych słów: ' + str(len(words_counts.toarray()[0])))\n",
    "counts = pd.DataFrame(words_counts.toarray(),\n",
    "                      columns=all_data_cv.get_feature_names())\n",
    "counts.sum().T.sort_values(ascending=False).head(15).reset_index(name='counts')"
   ]
  },
  {
   "cell_type": "markdown",
   "id": "836966f7",
   "metadata": {},
   "source": [
    "# System do maszynowego uczenia"
   ]
  },
  {
   "cell_type": "code",
   "execution_count": 9,
   "id": "79b60120",
   "metadata": {},
   "outputs": [],
   "source": [
    "subj_len_df = df.copy()\n",
    "subj_len_df['len'] = subj_len_df.subj.map(len)\n",
    "\n",
    "# X_data = subj_len_df[['subj', 'len']]\n",
    "X_data = subj_len_df[['subj']]\n",
    "y_data = subj_len_df.label_3class\n",
    "\n",
    "X_train, X_test, y_train, y_test = train_test_split(X_data, y_data)"
   ]
  },
  {
   "cell_type": "code",
   "execution_count": 10,
   "id": "f554e247",
   "metadata": {},
   "outputs": [],
   "source": [
    "v = CountVectorizer(stop_words='english')\n",
    "X_train_count = v.fit_transform(X_train.subj.values)"
   ]
  },
  {
   "cell_type": "code",
   "execution_count": 11,
   "id": "65c6c41b",
   "metadata": {},
   "outputs": [],
   "source": [
    "X_test_count = v.transform(X_test.subj)"
   ]
  },
  {
   "cell_type": "code",
   "execution_count": 12,
   "id": "1816cb65-7ef6-4821-b19c-fd49e74522de",
   "metadata": {},
   "outputs": [],
   "source": [
    "# print(X_train.head())\n",
    "# print(X_train_count)\n",
    "# print(type(X_test_count))\n",
    "# print(pd.DataFrame.sparse.from_spmatrix(X_test_count))\n",
    "# print(X_data.len.values)"
   ]
  },
  {
   "cell_type": "code",
   "execution_count": 13,
   "id": "6efb2e40",
   "metadata": {},
   "outputs": [
    {
     "data": {
      "text/plain": [
       "MultinomialNB()"
      ]
     },
     "execution_count": 13,
     "metadata": {},
     "output_type": "execute_result"
    }
   ],
   "source": [
    "model = MultinomialNB()\n",
    "model.fit(X_train_count, y_train)"
   ]
  },
  {
   "cell_type": "code",
   "execution_count": 14,
   "id": "95571eb3",
   "metadata": {},
   "outputs": [
    {
     "data": {
      "text/plain": [
       "array([0, 1, 1, ..., 2, 0, 2], dtype=int64)"
      ]
     },
     "execution_count": 14,
     "metadata": {},
     "output_type": "execute_result"
    }
   ],
   "source": [
    "model.predict(X_test_count)"
   ]
  },
  {
   "cell_type": "code",
   "execution_count": 15,
   "id": "258bceb6",
   "metadata": {},
   "outputs": [
    {
     "data": {
      "text/plain": [
       "0.6190095846645367"
      ]
     },
     "execution_count": 15,
     "metadata": {},
     "output_type": "execute_result"
    }
   ],
   "source": [
    "model.score(X_test_count, y_test)"
   ]
  },
  {
   "cell_type": "code",
   "execution_count": 16,
   "id": "6c0c0ac9",
   "metadata": {},
   "outputs": [
    {
     "data": {
      "text/plain": [
       "SVC()"
      ]
     },
     "execution_count": 16,
     "metadata": {},
     "output_type": "execute_result"
    }
   ],
   "source": [
    "clf = svm.SVC()\n",
    "clf.fit(X_train_count, y_train)"
   ]
  },
  {
   "cell_type": "code",
   "execution_count": 17,
   "id": "56147331",
   "metadata": {},
   "outputs": [
    {
     "name": "stdout",
     "output_type": "stream",
     "text": [
      "              precision    recall  f1-score   support\n",
      "\n",
      "           0       0.74      0.34      0.47       291\n",
      "           1       0.54      0.71      0.61       480\n",
      "           2       0.72      0.71      0.71       481\n",
      "\n",
      "    accuracy                           0.63      1252\n",
      "   macro avg       0.66      0.59      0.60      1252\n",
      "weighted avg       0.65      0.63      0.62      1252\n",
      "\n"
     ]
    }
   ],
   "source": [
    "predictions = clf.predict(X_test_count)\n",
    "print(classification_report(y_test, predictions))"
   ]
  },
  {
   "cell_type": "code",
   "execution_count": 18,
   "id": "2267158f",
   "metadata": {},
   "outputs": [
    {
     "data": {
      "text/plain": [
       "0.6261980830670927"
      ]
     },
     "execution_count": 18,
     "metadata": {},
     "output_type": "execute_result"
    }
   ],
   "source": [
    "clf.score(X_test_count, y_test)"
   ]
  },
  {
   "cell_type": "code",
   "execution_count": 19,
   "id": "a4751115-9aec-4524-b190-1ad9e2dcf204",
   "metadata": {},
   "outputs": [
    {
     "name": "stdout",
     "output_type": "stream",
     "text": [
      "[0.63031915 0.62234043 0.59840426 0.61702128 0.64       0.62666667\n",
      " 0.63466667 0.62133333 0.66133333 0.61066667]\n",
      "0.6262751773049645\n"
     ]
    }
   ],
   "source": [
    "scores = cross_val_score(model, X_train_count, y_train, cv=10, scoring='accuracy', n_jobs=-1)\n",
    "print(scores)\n",
    "print(scores.mean())"
   ]
  },
  {
   "cell_type": "code",
   "execution_count": 20,
   "id": "ca5c7382-7655-44a7-b84a-0ab7fb7729eb",
   "metadata": {},
   "outputs": [
    {
     "name": "stdout",
     "output_type": "stream",
     "text": [
      "[0.62765957 0.66489362 0.63031915 0.6037234  0.656      0.63733333\n",
      " 0.64266667 0.60533333 0.63733333 0.61333333]\n",
      "0.631859574468085\n"
     ]
    }
   ],
   "source": [
    "scores = cross_val_score(clf, X_train_count, y_train, cv=10, scoring='accuracy', n_jobs=-1)\n",
    "print(scores)\n",
    "print(scores.mean())"
   ]
  },
  {
   "cell_type": "markdown",
   "id": "767acd37-82b3-4f41-a148-0f1fc35c831b",
   "metadata": {},
   "source": [
    "# Raport eksperymentów"
   ]
  },
  {
   "cell_type": "markdown",
   "id": "1bb3a333-6936-46e6-9bc9-40a9959d141e",
   "metadata": {},
   "source": [
    "Wszystkie badania prowadzone są w kontekście zbioru danych `scale_data`"
   ]
  },
  {
   "cell_type": "markdown",
   "id": "a6709f7d-a284-4357-9225-2a6249048f38",
   "metadata": {},
   "source": [
    "## Najlepsze wartości parametrów dla algorytmu SVM"
   ]
  },
  {
   "cell_type": "markdown",
   "id": "a08fd4f2-746e-4f9b-b119-d96fb1cbbded",
   "metadata": {},
   "source": [
    "Celem badania jest znalezienie najlepszych parametrów dla algorytmu SVM używając kernela `rbf`"
   ]
  },
  {
   "cell_type": "code",
   "execution_count": 21,
   "id": "30ff2555-6444-48dc-a813-f313c0e94d4c",
   "metadata": {},
   "outputs": [
    {
     "name": "stdout",
     "output_type": "stream",
     "text": [
      "Fitting 5 folds for each of 25 candidates, totalling 125 fits\n",
      "{'C': 10, 'gamma': 0.001, 'kernel': 'rbf'}\n",
      "SVC(C=10, gamma=0.001)\n"
     ]
    }
   ],
   "source": [
    "param_grid = {'C': [0.1, 1, 10, 100, 1000], \n",
    "              'gamma': [1, 0.1, 0.01, 0.001, 0.0001],\n",
    "              'kernel': ['rbf']}\n",
    "\n",
    "grid = GridSearchCV(svm.SVC(), param_grid, refit = True, verbose = 3, n_jobs=-1)\n",
    "grid.fit(X_train_count, y_train)\n",
    "\n",
    "print(grid.best_params_)\n",
    "print(grid.best_estimator_)\n"
   ]
  },
  {
   "cell_type": "code",
   "execution_count": 22,
   "id": "d4021db5-8848-4664-873a-bc60822d7273",
   "metadata": {},
   "outputs": [
    {
     "name": "stdout",
     "output_type": "stream",
     "text": [
      "              precision    recall  f1-score   support\n",
      "\n",
      "           0       0.64      0.54      0.59       291\n",
      "           1       0.56      0.64      0.60       480\n",
      "           2       0.76      0.72      0.74       481\n",
      "\n",
      "    accuracy                           0.65      1252\n",
      "   macro avg       0.65      0.63      0.64      1252\n",
      "weighted avg       0.65      0.65      0.65      1252\n",
      "\n"
     ]
    }
   ],
   "source": [
    "grid_predictions = grid.predict(X_test_count)\n",
    "print(classification_report(y_test, grid_predictions))"
   ]
  },
  {
   "cell_type": "markdown",
   "id": "c6f74d97-262d-4711-a653-36e8aed4bfa3",
   "metadata": {},
   "source": [
    "#### Wniosek\n",
    "Najlepszymi parametrami wynikającymi z badania są:\n",
    "\n",
    "`C`: 10\n",
    "\n",
    "`gamma`: 0.001"
   ]
  },
  {
   "cell_type": "markdown",
   "id": "9ba3c190-cccd-49f8-ba73-10b249c9329e",
   "metadata": {},
   "source": [
    "## Wrażliwość hiperparametrów na testowane algorytmy"
   ]
  },
  {
   "cell_type": "markdown",
   "id": "35a652cf-ba36-4337-902f-aa58fba3a728",
   "metadata": {},
   "source": [
    "Celem badania jest analiza wpływu zmian parametru `alfa` w algorytmie Bayesa."
   ]
  },
  {
   "cell_type": "code",
   "execution_count": 23,
   "id": "43a6219c-e1e0-4d6f-aec2-dcd9480003ce",
   "metadata": {},
   "outputs": [
    {
     "data": {
      "text/plain": [
       "GridSearchCV(cv=10, estimator=MultinomialNB(), n_jobs=-1,\n",
       "             param_grid={'alpha': [0.1, 0.2, 0.3, 0.4, 0.5, 0.6, 0.7, 0.8, 0.9,\n",
       "                                   1.0, 1.1, 1.2, 1.3, 1.4, 1.5, 1.6, 1.7, 1.8,\n",
       "                                   1.9, 2.0, 2.1, 2.2, 2.3, 2.4, 2.5, 2.6, 2.7,\n",
       "                                   2.8, 2.9, 3.0, ...]},\n",
       "             scoring='accuracy')"
      ]
     },
     "execution_count": 23,
     "metadata": {},
     "output_type": "execute_result"
    }
   ],
   "source": [
    "alpha_range = list(map(lambda x: x / 10, range(1, 51)))\n",
    "param_grid = dict(alpha=alpha_range)\n",
    "grid = GridSearchCV(MultinomialNB(), param_grid, cv=10, scoring='accuracy', n_jobs=-1)\n",
    "grid.fit(X_train_count, y_train)"
   ]
  },
  {
   "cell_type": "code",
   "execution_count": 26,
   "id": "6caa2c6b-a675-4634-a781-7fb8ac6b6ede",
   "metadata": {},
   "outputs": [
    {
     "data": {
      "text/plain": [
       "Text(0, 0.5, 'Accuracy')"
      ]
     },
     "execution_count": 26,
     "metadata": {},
     "output_type": "execute_result"
    },
    {
     "data": {
      "image/png": "[encoded data removed]",
      "text/plain": [
       "<Figure size 432x288 with 1 Axes>"
      ]
     },
     "metadata": {
      "needs_background": "light"
     },
     "output_type": "display_data"
    }
   ],
   "source": [
    "results = grid.cv_results_['mean_test_score']\n",
    "plt.plot(alpha_range, results)\n",
    "plt.xlabel(\"Alpha\")\n",
    "plt.ylabel(\"Accuracy\")"
   ]
  },
  {
   "cell_type": "markdown",
   "id": "ef906fe1-0a37-4f49-b408-cb40b3784dde",
   "metadata": {},
   "source": [
    "#### Wniosek\n",
    "Najlepszy rezultat daje ustawienie parametru Alfa na nieco ponad 1. "
   ]
  },
  {
   "cell_type": "markdown",
   "id": "13eb1d60-1603-485c-a30d-fb79a119564f",
   "metadata": {},
   "source": [
    "## Istotność selekcji cech"
   ]
  },
  {
   "cell_type": "markdown",
   "id": "6503de66-32a2-41f2-ac54-74ad1efb5757",
   "metadata": {},
   "source": [
    "Celem badania jest porównanie wyników użycia wszystkich słów jako cechy i pominięcia niektórych z nich używając `stop words` dla algorytmów Bayesa i SVM"
   ]
  },
  {
   "cell_type": "code",
   "execution_count": 37,
   "id": "7e95fed8-77d5-47c3-abad-63445102cce0",
   "metadata": {},
   "outputs": [],
   "source": [
    "v = CountVectorizer()\n",
    "X = v.fit_transform(X_data.subj.values)\n",
    "\n",
    "vs = CountVectorizer(stop_words='english')\n",
    "Xs = vs.fit_transform(X_data.subj.values)"
   ]
  },
  {
   "cell_type": "markdown",
   "id": "70a18b3a-5832-4da3-b1ee-65bfee81dfd5",
   "metadata": {},
   "source": [
    "### Bayes"
   ]
  },
  {
   "cell_type": "code",
   "execution_count": 38,
   "id": "943a286a-97c7-4ad6-96f4-0d9e75a1f3c8",
   "metadata": {},
   "outputs": [],
   "source": [
    "grid = GridSearchCV(MultinomialNB(), param_grid, cv=10, scoring='accuracy', n_jobs=-1)"
   ]
  },
  {
   "cell_type": "code",
   "execution_count": 39,
   "id": "e44a9f50-7087-4aa1-92d1-cf0d38589b54",
   "metadata": {},
   "outputs": [],
   "source": [
    "grid.fit(X, y_data)\n",
    "x_best = grid.best_score_\n",
    "\n",
    "grid.fit(Xs, y_data)\n",
    "xs_best = grid.best_score_"
   ]
  },
  {
   "cell_type": "code",
   "execution_count": 49,
   "id": "e3fe27a0-cf99-469b-9a86-8a8d4e763c95",
   "metadata": {},
   "outputs": [
    {
     "name": "stdout",
     "output_type": "stream",
     "text": [
      "0.5787176894961327\n",
      "0.5807222717402357\n"
     ]
    },
    {
     "data": {
      "image/png": "[encoded data removed]",
      "text/plain": [
       "<Figure size 432x288 with 1 Axes>"
      ]
     },
     "metadata": {
      "needs_background": "light"
     },
     "output_type": "display_data"
    }
   ],
   "source": [
    "print(x_best)\n",
    "print(xs_best)\n",
    "fig = plt.figure()\n",
    "ax = fig.add_subplot(111)\n",
    "ax.bar(\n",
    "    ['Not used', 'Stop words'],\n",
    "    [x_best, xs_best]\n",
    ")\n",
    "\n",
    "plt.title(\"MultinomialNB\")\n",
    "plt.show()"
   ]
  },
  {
   "cell_type": "markdown",
   "id": "666c7ff7-3ac3-46ce-92c8-1e66cbc11b30",
   "metadata": {},
   "source": [
    "### SVM"
   ]
  },
  {
   "cell_type": "code",
   "execution_count": 42,
   "id": "512a5b6b-b53d-4fe6-b738-f1f03ac83b66",
   "metadata": {},
   "outputs": [],
   "source": [
    "grid = GridSearchCV(svm.SVC(), {'C': [10], 'gamma': [0.001], 'kernel': ['rbf']}, refit=True, verbose = 3, n_jobs=-1)"
   ]
  },
  {
   "cell_type": "code",
   "execution_count": 43,
   "id": "267ee4d8-637c-40a9-a747-7f0cd1b06de4",
   "metadata": {},
   "outputs": [
    {
     "name": "stdout",
     "output_type": "stream",
     "text": [
      "Fitting 5 folds for each of 1 candidates, totalling 5 fits\n",
      "Fitting 5 folds for each of 1 candidates, totalling 5 fits\n"
     ]
    }
   ],
   "source": [
    "grid.fit(X, y_data)\n",
    "x_best = grid.best_score_\n",
    "\n",
    "grid.fit(Xs, y_data)\n",
    "xs_best = grid.best_score_"
   ]
  },
  {
   "cell_type": "code",
   "execution_count": 44,
   "id": "ff30f8e9-4155-4713-a227-8ac7c7f5b291",
   "metadata": {},
   "outputs": [
    {
     "name": "stdout",
     "output_type": "stream",
     "text": [
      "0.5787176894961327\n",
      "0.5807222717402357\n"
     ]
    }
   ],
   "source": [
    "print(x_best)\n",
    "print(xs_best)"
   ]
  },
  {
   "cell_type": "code",
   "execution_count": 50,
   "id": "de5efe73-cfde-4e81-bada-ea49ca518454",
   "metadata": {},
   "outputs": [
    {
     "data": {
      "image/png": "[encoded data removed]",
      "text/plain": [
       "<Figure size 432x288 with 1 Axes>"
      ]
     },
     "metadata": {
      "needs_background": "light"
     },
     "output_type": "display_data"
    }
   ],
   "source": [
    "fig = plt.figure()\n",
    "ax = fig.add_subplot(111)\n",
    "ax.bar(\n",
    "    ['Not used', 'Stop words'],\n",
    "    [x_best, xs_best]\n",
    ")\n",
    "\n",
    "plt.title(\"SVM\")\n",
    "plt.show()"
   ]
  },
  {
   "cell_type": "markdown",
   "id": "7b9eb49a-d6d8-4dc0-8d02-f1bddcf8d58e",
   "metadata": {},
   "source": [
    "#### Wniosek\n",
    "Użycie stop_words ma niewielki wpływ na wynik."
   ]
  },
  {
   "cell_type": "markdown",
   "id": "4455fd70-b44f-4085-884e-00c6c175b4f8",
   "metadata": {},
   "source": [
    "## Analiza wielkości podzbioru walidacyjnego"
   ]
  },
  {
   "cell_type": "markdown",
   "id": "ec84b2d0-9194-4ad6-a5f7-61348429a56b",
   "metadata": {},
   "source": [
    "Celem badania jest analiza wpływu wielkości podziału walidacji krzyżowej na wyniki."
   ]
  },
  {
   "cell_type": "code",
   "execution_count": 45,
   "id": "54039fae-55d9-42c9-b25d-83e1d489a27b",
   "metadata": {},
   "outputs": [],
   "source": [
    "scores = []\n",
    "for n in range(2, 10):\n",
    "    grid = GridSearchCV(MultinomialNB(), dict(), cv=n, scoring='accuracy', n_jobs=-1)\n",
    "    grid.fit(X, y_data)\n",
    "    scores.append(grid.best_score_)"
   ]
  },
  {
   "cell_type": "code",
   "execution_count": 46,
   "id": "df6087f0-6b82-4743-a297-d2f8d000e423",
   "metadata": {},
   "outputs": [
    {
     "data": {
      "text/plain": [
       "Text(0, 0.5, 'Best score')"
      ]
     },
     "execution_count": 46,
     "metadata": {},
     "output_type": "execute_result"
    },
    {
     "data": {
      "image/png": "[encoded data removed]",
      "text/plain": [
       "<Figure size 432x288 with 1 Axes>"
      ]
     },
     "metadata": {
      "needs_background": "light"
     },
     "output_type": "display_data"
    }
   ],
   "source": [
    "plt.plot(range(2, 10), scores)\n",
    "plt.xlabel(\"cv\")\n",
    "plt.ylabel(\"Best score\")"
   ]
  },
  {
   "cell_type": "markdown",
   "id": "02b43207-c014-43f5-bfdb-58d9a563806f",
   "metadata": {},
   "source": [
    "#### Wniosek\n",
    "Najlepszy wynik można uzyskać dzieląc zbiór na 5 części."
   ]
  },
  {
   "cell_type": "markdown",
   "id": "8f7a83d8-da55-4d17-9d4c-de77a90db68d",
   "metadata": {},
   "source": [
    "## Analiza wielkości ngramów"
   ]
  },
  {
   "cell_type": "markdown",
   "id": "38f42a33-b268-48ff-bb9f-cf8c563dc368",
   "metadata": {},
   "source": [
    "Celem badania jest analiza wpływu wielkości ngramów na wyniki."
   ]
  },
  {
   "cell_type": "code",
   "execution_count": 47,
   "id": "33a95b58-5c62-4d34-9eda-f77ffe63cb03",
   "metadata": {},
   "outputs": [],
   "source": [
    "ngram_ranges = [(1, 1), (1, 2), (1,3)]\n",
    "scores = []\n",
    "for nr in ngram_ranges:\n",
    "    cv = CountVectorizer(stop_words = 'english', ngram_range = nr)\n",
    "    X = cv.fit_transform(X_data.subj.values)\n",
    "    grid = GridSearchCV(MultinomialNB(), dict(), cv=5, scoring='accuracy', n_jobs=-1)\n",
    "    grid.fit(X, y_data)\n",
    "    scores.append(grid.best_score_)"
   ]
  },
  {
   "cell_type": "code",
   "execution_count": 48,
   "id": "f304b78d-6f27-4ac7-ba53-8121cb60e622",
   "metadata": {},
   "outputs": [
    {
     "data": {
      "image/png": "[encoded data removed]",
      "text/plain": [
       "<Figure size 432x288 with 1 Axes>"
      ]
     },
     "metadata": {
      "needs_background": "light"
     },
     "output_type": "display_data"
    }
   ],
   "source": [
    "fig = plt.figure()\n",
    "ax = fig.add_subplot(111)\n",
    "ax.bar(\n",
    "    ['Unigram', 'Bigram', 'Trigram'],\n",
    "    [scores[0], scores[1], scores[2]])\n",
    "\n",
    "plt.title(\"Analiza ngramów\")\n",
    "plt.show()"
   ]
  },
  {
   "cell_type": "markdown",
   "id": "9391c4c6-7890-4518-be86-54666e20b10e",
   "metadata": {},
   "source": [
    "#### Wniosek\n",
    "Najlepszy wynik można uzyskać dla domyślnego unigramu."
   ]
  }
 ],
 "metadata": {
  "kernelspec": {
   "display_name": "Python 3",
   "language": "python",
   "name": "python3"
  },
  "language_info": {
   "codemirror_mode": {
    "name": "ipython",
    "version": 3
   },
   "file_extension": ".py",
   "mimetype": "text/x-python",
   "name": "python",
   "nbconvert_exporter": "python",
   "pygments_lexer": "ipython3",
   "version": "3.8.3"
  }
 },
 "nbformat": 4,
 "nbformat_minor": 5
}
